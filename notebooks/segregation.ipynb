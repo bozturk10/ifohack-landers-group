{
 "cells": [
  {
   "attachments": {},
   "cell_type": "markdown",
   "metadata": {},
   "source": [
    "Feature Engineering using Zensus Data"
   ]
  },
  {
   "cell_type": "code",
   "execution_count": 1,
   "metadata": {},
   "outputs": [
    {
     "name": "stderr",
     "output_type": "stream",
     "text": [
      "C:\\Users\\Bicakci\\AppData\\Local\\Temp\\ipykernel_6304\\2746412016.py:2: UserWarning: Shapely 2.0 is installed, but because PyGEOS is also installed, GeoPandas will still use PyGEOS by default for now. To force to use and test Shapely 2.0, you have to set the environment variable USE_PYGEOS=0. You can do this before starting the Python process, or in your code before importing geopandas:\n",
      "\n",
      "import os\n",
      "os.environ['USE_PYGEOS'] = '0'\n",
      "import geopandas\n",
      "\n",
      "In a future release, GeoPandas will switch to using Shapely by default. If you are using PyGEOS directly (calling PyGEOS functions on geometries from GeoPandas), this will then stop working and you are encouraged to migrate from PyGEOS to Shapely 2.0 (https://shapely.readthedocs.io/en/latest/migration_pygeos.html).\n",
      "  import geopandas as gpd\n"
     ]
    }
   ],
   "source": [
    "import pandas as pd\n",
    "import geopandas as gpd\n",
    "import folium \n",
    "import matplotlib.pyplot as plt\n",
    "\n",
    "from pysal.lib import weights  \n",
    "import segregation as seg"
   ]
  },
  {
   "cell_type": "code",
   "execution_count": 3,
   "metadata": {},
   "outputs": [
    {
     "ename": "FileNotFoundError",
     "evalue": "[Errno 2] No such file or directory: '../data_example/Zensus.csv'",
     "output_type": "error",
     "traceback": [
      "\u001b[1;31m---------------------------------------------------------------------------\u001b[0m",
      "\u001b[1;31mFileNotFoundError\u001b[0m                         Traceback (most recent call last)",
      "Cell \u001b[1;32mIn[3], line 1\u001b[0m\n\u001b[1;32m----> 1\u001b[0m zensus_df \u001b[39m=\u001b[39m pd\u001b[39m.\u001b[39;49mread_csv(\u001b[39m\"\u001b[39;49m\u001b[39m../data_example/Zensus.csv\u001b[39;49m\u001b[39m\"\u001b[39;49m, sep \u001b[39m=\u001b[39;49m \u001b[39m\"\u001b[39;49m\u001b[39m;\u001b[39;49m\u001b[39m\"\u001b[39;49m, encoding \u001b[39m=\u001b[39;49m \u001b[39m'\u001b[39;49m\u001b[39mutf-8-sig\u001b[39;49m\u001b[39m'\u001b[39;49m)\n",
      "File \u001b[1;32mc:\\Users\\Bicakci\\AppData\\Local\\anaconda3\\envs\\ifohack_spatial_py310\\lib\\site-packages\\pandas\\io\\parsers\\readers.py:912\u001b[0m, in \u001b[0;36mread_csv\u001b[1;34m(filepath_or_buffer, sep, delimiter, header, names, index_col, usecols, dtype, engine, converters, true_values, false_values, skipinitialspace, skiprows, skipfooter, nrows, na_values, keep_default_na, na_filter, verbose, skip_blank_lines, parse_dates, infer_datetime_format, keep_date_col, date_parser, date_format, dayfirst, cache_dates, iterator, chunksize, compression, thousands, decimal, lineterminator, quotechar, quoting, doublequote, escapechar, comment, encoding, encoding_errors, dialect, on_bad_lines, delim_whitespace, low_memory, memory_map, float_precision, storage_options, dtype_backend)\u001b[0m\n\u001b[0;32m    899\u001b[0m kwds_defaults \u001b[39m=\u001b[39m _refine_defaults_read(\n\u001b[0;32m    900\u001b[0m     dialect,\n\u001b[0;32m    901\u001b[0m     delimiter,\n\u001b[1;32m   (...)\u001b[0m\n\u001b[0;32m    908\u001b[0m     dtype_backend\u001b[39m=\u001b[39mdtype_backend,\n\u001b[0;32m    909\u001b[0m )\n\u001b[0;32m    910\u001b[0m kwds\u001b[39m.\u001b[39mupdate(kwds_defaults)\n\u001b[1;32m--> 912\u001b[0m \u001b[39mreturn\u001b[39;00m _read(filepath_or_buffer, kwds)\n",
      "File \u001b[1;32mc:\\Users\\Bicakci\\AppData\\Local\\anaconda3\\envs\\ifohack_spatial_py310\\lib\\site-packages\\pandas\\io\\parsers\\readers.py:577\u001b[0m, in \u001b[0;36m_read\u001b[1;34m(filepath_or_buffer, kwds)\u001b[0m\n\u001b[0;32m    574\u001b[0m _validate_names(kwds\u001b[39m.\u001b[39mget(\u001b[39m\"\u001b[39m\u001b[39mnames\u001b[39m\u001b[39m\"\u001b[39m, \u001b[39mNone\u001b[39;00m))\n\u001b[0;32m    576\u001b[0m \u001b[39m# Create the parser.\u001b[39;00m\n\u001b[1;32m--> 577\u001b[0m parser \u001b[39m=\u001b[39m TextFileReader(filepath_or_buffer, \u001b[39m*\u001b[39m\u001b[39m*\u001b[39mkwds)\n\u001b[0;32m    579\u001b[0m \u001b[39mif\u001b[39;00m chunksize \u001b[39mor\u001b[39;00m iterator:\n\u001b[0;32m    580\u001b[0m     \u001b[39mreturn\u001b[39;00m parser\n",
      "File \u001b[1;32mc:\\Users\\Bicakci\\AppData\\Local\\anaconda3\\envs\\ifohack_spatial_py310\\lib\\site-packages\\pandas\\io\\parsers\\readers.py:1407\u001b[0m, in \u001b[0;36mTextFileReader.__init__\u001b[1;34m(self, f, engine, **kwds)\u001b[0m\n\u001b[0;32m   1404\u001b[0m     \u001b[39mself\u001b[39m\u001b[39m.\u001b[39moptions[\u001b[39m\"\u001b[39m\u001b[39mhas_index_names\u001b[39m\u001b[39m\"\u001b[39m] \u001b[39m=\u001b[39m kwds[\u001b[39m\"\u001b[39m\u001b[39mhas_index_names\u001b[39m\u001b[39m\"\u001b[39m]\n\u001b[0;32m   1406\u001b[0m \u001b[39mself\u001b[39m\u001b[39m.\u001b[39mhandles: IOHandles \u001b[39m|\u001b[39m \u001b[39mNone\u001b[39;00m \u001b[39m=\u001b[39m \u001b[39mNone\u001b[39;00m\n\u001b[1;32m-> 1407\u001b[0m \u001b[39mself\u001b[39m\u001b[39m.\u001b[39m_engine \u001b[39m=\u001b[39m \u001b[39mself\u001b[39;49m\u001b[39m.\u001b[39;49m_make_engine(f, \u001b[39mself\u001b[39;49m\u001b[39m.\u001b[39;49mengine)\n",
      "File \u001b[1;32mc:\\Users\\Bicakci\\AppData\\Local\\anaconda3\\envs\\ifohack_spatial_py310\\lib\\site-packages\\pandas\\io\\parsers\\readers.py:1661\u001b[0m, in \u001b[0;36mTextFileReader._make_engine\u001b[1;34m(self, f, engine)\u001b[0m\n\u001b[0;32m   1659\u001b[0m     \u001b[39mif\u001b[39;00m \u001b[39m\"\u001b[39m\u001b[39mb\u001b[39m\u001b[39m\"\u001b[39m \u001b[39mnot\u001b[39;00m \u001b[39min\u001b[39;00m mode:\n\u001b[0;32m   1660\u001b[0m         mode \u001b[39m+\u001b[39m\u001b[39m=\u001b[39m \u001b[39m\"\u001b[39m\u001b[39mb\u001b[39m\u001b[39m\"\u001b[39m\n\u001b[1;32m-> 1661\u001b[0m \u001b[39mself\u001b[39m\u001b[39m.\u001b[39mhandles \u001b[39m=\u001b[39m get_handle(\n\u001b[0;32m   1662\u001b[0m     f,\n\u001b[0;32m   1663\u001b[0m     mode,\n\u001b[0;32m   1664\u001b[0m     encoding\u001b[39m=\u001b[39;49m\u001b[39mself\u001b[39;49m\u001b[39m.\u001b[39;49moptions\u001b[39m.\u001b[39;49mget(\u001b[39m\"\u001b[39;49m\u001b[39mencoding\u001b[39;49m\u001b[39m\"\u001b[39;49m, \u001b[39mNone\u001b[39;49;00m),\n\u001b[0;32m   1665\u001b[0m     compression\u001b[39m=\u001b[39;49m\u001b[39mself\u001b[39;49m\u001b[39m.\u001b[39;49moptions\u001b[39m.\u001b[39;49mget(\u001b[39m\"\u001b[39;49m\u001b[39mcompression\u001b[39;49m\u001b[39m\"\u001b[39;49m, \u001b[39mNone\u001b[39;49;00m),\n\u001b[0;32m   1666\u001b[0m     memory_map\u001b[39m=\u001b[39;49m\u001b[39mself\u001b[39;49m\u001b[39m.\u001b[39;49moptions\u001b[39m.\u001b[39;49mget(\u001b[39m\"\u001b[39;49m\u001b[39mmemory_map\u001b[39;49m\u001b[39m\"\u001b[39;49m, \u001b[39mFalse\u001b[39;49;00m),\n\u001b[0;32m   1667\u001b[0m     is_text\u001b[39m=\u001b[39;49mis_text,\n\u001b[0;32m   1668\u001b[0m     errors\u001b[39m=\u001b[39;49m\u001b[39mself\u001b[39;49m\u001b[39m.\u001b[39;49moptions\u001b[39m.\u001b[39;49mget(\u001b[39m\"\u001b[39;49m\u001b[39mencoding_errors\u001b[39;49m\u001b[39m\"\u001b[39;49m, \u001b[39m\"\u001b[39;49m\u001b[39mstrict\u001b[39;49m\u001b[39m\"\u001b[39;49m),\n\u001b[0;32m   1669\u001b[0m     storage_options\u001b[39m=\u001b[39;49m\u001b[39mself\u001b[39;49m\u001b[39m.\u001b[39;49moptions\u001b[39m.\u001b[39;49mget(\u001b[39m\"\u001b[39;49m\u001b[39mstorage_options\u001b[39;49m\u001b[39m\"\u001b[39;49m, \u001b[39mNone\u001b[39;49;00m),\n\u001b[0;32m   1670\u001b[0m )\n\u001b[0;32m   1671\u001b[0m \u001b[39massert\u001b[39;00m \u001b[39mself\u001b[39m\u001b[39m.\u001b[39mhandles \u001b[39mis\u001b[39;00m \u001b[39mnot\u001b[39;00m \u001b[39mNone\u001b[39;00m\n\u001b[0;32m   1672\u001b[0m f \u001b[39m=\u001b[39m \u001b[39mself\u001b[39m\u001b[39m.\u001b[39mhandles\u001b[39m.\u001b[39mhandle\n",
      "File \u001b[1;32mc:\\Users\\Bicakci\\AppData\\Local\\anaconda3\\envs\\ifohack_spatial_py310\\lib\\site-packages\\pandas\\io\\common.py:859\u001b[0m, in \u001b[0;36mget_handle\u001b[1;34m(path_or_buf, mode, encoding, compression, memory_map, is_text, errors, storage_options)\u001b[0m\n\u001b[0;32m    854\u001b[0m \u001b[39melif\u001b[39;00m \u001b[39misinstance\u001b[39m(handle, \u001b[39mstr\u001b[39m):\n\u001b[0;32m    855\u001b[0m     \u001b[39m# Check whether the filename is to be opened in binary mode.\u001b[39;00m\n\u001b[0;32m    856\u001b[0m     \u001b[39m# Binary mode does not support 'encoding' and 'newline'.\u001b[39;00m\n\u001b[0;32m    857\u001b[0m     \u001b[39mif\u001b[39;00m ioargs\u001b[39m.\u001b[39mencoding \u001b[39mand\u001b[39;00m \u001b[39m\"\u001b[39m\u001b[39mb\u001b[39m\u001b[39m\"\u001b[39m \u001b[39mnot\u001b[39;00m \u001b[39min\u001b[39;00m ioargs\u001b[39m.\u001b[39mmode:\n\u001b[0;32m    858\u001b[0m         \u001b[39m# Encoding\u001b[39;00m\n\u001b[1;32m--> 859\u001b[0m         handle \u001b[39m=\u001b[39m \u001b[39mopen\u001b[39;49m(\n\u001b[0;32m    860\u001b[0m             handle,\n\u001b[0;32m    861\u001b[0m             ioargs\u001b[39m.\u001b[39;49mmode,\n\u001b[0;32m    862\u001b[0m             encoding\u001b[39m=\u001b[39;49mioargs\u001b[39m.\u001b[39;49mencoding,\n\u001b[0;32m    863\u001b[0m             errors\u001b[39m=\u001b[39;49merrors,\n\u001b[0;32m    864\u001b[0m             newline\u001b[39m=\u001b[39;49m\u001b[39m\"\u001b[39;49m\u001b[39m\"\u001b[39;49m,\n\u001b[0;32m    865\u001b[0m         )\n\u001b[0;32m    866\u001b[0m     \u001b[39melse\u001b[39;00m:\n\u001b[0;32m    867\u001b[0m         \u001b[39m# Binary mode\u001b[39;00m\n\u001b[0;32m    868\u001b[0m         handle \u001b[39m=\u001b[39m \u001b[39mopen\u001b[39m(handle, ioargs\u001b[39m.\u001b[39mmode)\n",
      "\u001b[1;31mFileNotFoundError\u001b[0m: [Errno 2] No such file or directory: '../data_example/Zensus.csv'"
     ]
    }
   ],
   "source": [
    "zensus_df = pd.read_csv(\"../data_example/Zensus.csv\", sep = \";\", encoding = 'utf-8-sig')"
   ]
  },
  {
   "attachments": {},
   "cell_type": "markdown",
   "metadata": {},
   "source": [
    "Segregation"
   ]
  },
  {
   "attachments": {},
   "cell_type": "markdown",
   "metadata": {},
   "source": [
    "Segregation based on age "
   ]
  },
  {
   "cell_type": "code",
   "execution_count": null,
   "metadata": {},
   "outputs": [],
   "source": [
    "age_over_65 = \"alk_65_over\"; age_below_18 = \"alk_18_under\"; total_pop_var = \"population_total_units\"\n",
    "    \n",
    "zensus_df[total_pop_var] = zensus_df[total_pop_var].astype(int)\n",
    "zensus_df[age_over_65] = zensus_df[age_over_65].astype(int) ; zensus_df[age_below_18] = zensus_df[age_below_18].astype(int)\n",
    "\n",
    "# Filter out units with zero population\n",
    "zensus_df = zensus_df[zensus_df[total_pop_var] > 0]\n",
    "    \n",
    "# A-spatial segregation index     \n",
    "int_age_65 = seg.singlegroup.Interaction(data = zensus_df, group_pop_var = age_over_65, total_pop_var = total_pop_var)\n",
    "int_age_18 = seg.singlegroup.Interaction(data = zensus_df, group_pop_var = age_below_18, total_pop_var = total_pop_var)\n",
    "\n",
    "print(\"Interaction of age category %s: %.2f and Interaction of age category %s: %.2f\" %(age_over_65, int_age_65.statistic, age_below_18, int_age_18.statistic))"
   ]
  },
  {
   "attachments": {},
   "cell_type": "markdown",
   "metadata": {},
   "source": [
    "Segregation based on being single or married"
   ]
  },
  {
   "cell_type": "code",
   "execution_count": null,
   "metadata": {},
   "outputs": [],
   "source": [
    "# Define variable names for single and married households\n",
    "single_var = \"fam_single\"\n",
    "married_var = \"fam_married\"\n",
    "\n",
    "# Convert data types to integers\n",
    "zensus_df[single_var] = zensus_df[single_var].astype(int)\n",
    "zensus_df[married_var] = zensus_df[married_var].astype(int)\n",
    "\n",
    "# Filter out units with zero population\n",
    "#zensus_df = zensus_df[zensus_df[total_pop_var] > 0]\n",
    "\n",
    "# Calculate segregation indices\n",
    "int_single = seg.singlegroup.Interaction(data=zensus_df, group_pop_var=single_var, total_pop_var=total_pop_var)\n",
    "int_married = seg.singlegroup.Interaction(data=zensus_df, group_pop_var=married_var, total_pop_var=total_pop_var)\n",
    "\n",
    "# Print segregation indices\n",
    "print(\"Interaction of %s households: %.2f\" %(single_var, int_single.statistic))\n",
    "print(\"Interaction of %s households: %.2f\" %(married_var, int_married.statistic))\n"
   ]
  },
  {
   "attachments": {},
   "cell_type": "markdown",
   "metadata": {},
   "source": [
    "German nationality vs other nationality "
   ]
  },
  {
   "cell_type": "code",
   "execution_count": null,
   "metadata": {},
   "outputs": [],
   "source": [
    "german_nationality = \"sk_germany\"\n",
    "other_nationality = \"sk_other\"\n",
    "total_pop_var = \"population_total_units\"\n",
    "\n",
    "zensus_df[german_nationality] = zensus_df[german_nationality].astype(int) \n",
    "zensus_df[other_nationality] = zensus_df[other_nationality].astype(int)\n",
    "\n",
    "#zensus_df = zensus_df[zensus_df[total_pop_var] > 0]\n",
    "\n",
    "int_german_nationality = seg.singlegroup.Interaction(data=zensus_df, \n",
    "                                                     group_pop_var=german_nationality, \n",
    "                                                     total_pop_var=total_pop_var)\n",
    "int_other_nationality = seg.singlegroup.Interaction(data=zensus_df, \n",
    "                                                    group_pop_var=other_nationality, \n",
    "                                                    total_pop_var=total_pop_var)\n",
    "\n",
    "print(\"Interaction of nationality category %s: %.2f and Interaction of nationality category %s: %.2f\" \n",
    "      %(german_nationality, int_german_nationality.statistic, other_nationality, int_other_nationality.statistic))"
   ]
  },
  {
   "attachments": {},
   "cell_type": "markdown",
   "metadata": {},
   "source": [
    "Christian vs other "
   ]
  },
  {
   "cell_type": "code",
   "execution_count": null,
   "metadata": {},
   "outputs": [],
   "source": [
    "re_christian = [\"re_roman_catholic\", \"re_protestant\"]\n",
    "re_other = \"re_other\"\n",
    "\n",
    "zensus_df[re_christian] = zensus_df[re_christian].astype(int)\n",
    "zensus_df[re_other] = zensus_df[re_other].astype(int)\n",
    "\n",
    "#zensus_df = zensus_df[zensus_df[total_pop_var] > 0]\n",
    "\n",
    "# A-spatial segregation index\n",
    "int_christian = seg.singlegroup.Interaction(data=zensus_df, groups=re_christian, total_pop_var=total_pop_var)\n",
    "int_other = seg.singlegroup.Interaction(data=zensus_df, group_pop_var=re_other, total_pop_var=total_pop_var)\n",
    "\n",
    "print(\"Interaction of Christian religion: %.2f and Interaction of other religions: %.2f\" %(int_christian.statistic, int_other.statistic))"
   ]
  },
  {
   "attachments": {},
   "cell_type": "markdown",
   "metadata": {},
   "source": [
    "Built before 1919 vs after 2009"
   ]
  },
  {
   "cell_type": "code",
   "execution_count": null,
   "metadata": {},
   "outputs": [],
   "source": [
    "built_before_1919 = \"j_before_1919\"\n",
    "built_2009_and_later = \"j_2009_and_later\"\n",
    "total_pop_var = \"population_total_units\"\n",
    "\n",
    "zensus_df[built_before_1919] = zensus_df[built_before_1919].astype(int)\n",
    "zensus_df[built_2009_and_later] = zensus_df[built_2009_and_later].astype(int)\n",
    "\n",
    "#zensus_df = zensus_df[zensus_df[total_pop_var] > 0]\n",
    "\n",
    "int_built_before_1919 = seg.singlegroup.Interaction(data=zensus_df, group_pop_var=built_before_1919, total_pop_var=total_pop_var)\n",
    "int_built_2009_and_later = seg.singlegroup.Interaction(data=zensus_df, group_pop_var=built_2009_and_later, total_pop_var=total_pop_var)\n",
    "\n",
    "print(\"Interaction of construction year %s: %.2f and Interaction of construction year %s: %.2f\" %(built_before_1919, int_built_before_1919.statistic, built_2009_and_later, int_built_2009_and_later.statistic))\n"
   ]
  },
  {
   "attachments": {},
   "cell_type": "markdown",
   "metadata": {},
   "source": [
    "small vs big houses "
   ]
  },
  {
   "cell_type": "code",
   "execution_count": null,
   "metadata": {},
   "outputs": [],
   "source": [
    "# Define variable names for apartment sizes\n",
    "small_apt_var = \"w_less_30\"\n",
    "large_apt_var = \"w_100_and_more\"\n",
    "\n",
    "# Convert data types to integers\n",
    "zensus_df[small_apt_var] = zensus_df[small_apt_var].astype(int)\n",
    "zensus_df[large_apt_var] = zensus_df[large_apt_var].astype(int)\n",
    "\n",
    "# Filter out units with zero population\n",
    "#zensus_df = zensus_df[zensus_df[total_pop_var] > 0]\n",
    "\n",
    "# Calculate segregation indices\n",
    "int_small_apt = seg.singlegroup.Interaction(data=zensus_df, group_pop_var=small_apt_var, total_pop_var=total_pop_var)\n",
    "int_large_apt = seg.singlegroup.Interaction(data=zensus_df, group_pop_var=large_apt_var, total_pop_var=total_pop_var)\n",
    "\n",
    "# Print segregation indices\n",
    "print(\"Interaction of %s apartments: %.2f\" %(small_apt_var, int_small_apt.statistic))\n",
    "print(\"Interaction of %s apartments: %.2f\" %(large_apt_var, int_large_apt.statistic))\n"
   ]
  }
 ],
 "metadata": {
  "kernelspec": {
   "display_name": "base",
   "language": "python",
   "name": "python3"
  },
  "language_info": {
   "codemirror_mode": {
    "name": "ipython",
    "version": 3
   },
   "file_extension": ".py",
   "mimetype": "text/x-python",
   "name": "python",
   "nbconvert_exporter": "python",
   "pygments_lexer": "ipython3",
   "version": "3.10.10"
  },
  "orig_nbformat": 4
 },
 "nbformat": 4,
 "nbformat_minor": 2
}
